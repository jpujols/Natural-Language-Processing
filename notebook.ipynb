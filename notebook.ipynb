{
 "cells": [
  {
   "cell_type": "markdown",
   "source": "## What is natural language processing?",
   "metadata": {
    "tags": [],
    "is_collapsed": false,
    "cell_id": "00000-a54bab3f-bb4f-4bf1-8e25-4f4908f1a873",
    "deepnote_cell_type": "text-cell-h2"
   }
  },
  {
   "cell_type": "code",
   "metadata": {
    "tags": [],
    "cell_id": "00000-a758bfcc-9e3d-4abf-b55d-b31f5d9d2931",
    "deepnote_to_be_reexecuted": false,
    "source_hash": "c4cfa2c8",
    "execution_start": 1639478644695,
    "execution_millis": 9,
    "deepnote_cell_type": "code",
    "deepnote_cell_height": 154.1875,
    "deepnote_output_heights": [
     21.1875
    ]
   },
   "source": "x = 'was'\ny = 'is'\nx == y",
   "execution_count": null,
   "outputs": [
    {
     "output_type": "execute_result",
     "execution_count": 1,
     "data": {
      "text/plain": "False"
     },
     "metadata": {}
    }
   ]
  },
  {
   "cell_type": "markdown",
   "source": "## Lemmatization of words",
   "metadata": {
    "tags": [],
    "is_collapsed": false,
    "cell_id": "00002-53c49425-f926-4cb3-83fb-d85db52a031c",
    "deepnote_cell_type": "text-cell-h2"
   }
  },
  {
   "cell_type": "code",
   "metadata": {
    "tags": [],
    "cell_id": "00001-0a633cee-2178-483b-bd1a-d5ea08225afd",
    "deepnote_cell_type": "code",
    "deepnote_cell_height": 84
   },
   "source": "import nltk\nnltk.download('wordnet')",
   "execution_count": null,
   "outputs": []
  },
  {
   "cell_type": "code",
   "metadata": {
    "tags": [],
    "cell_id": "00001-2baeaf03-0adb-4aa0-9ceb-c4d29f2e1a16",
    "deepnote_to_be_reexecuted": false,
    "source_hash": "2f950947",
    "execution_start": 1639479259486,
    "execution_millis": 9,
    "deepnote_cell_type": "code",
    "deepnote_cell_height": 226.1875,
    "deepnote_output_heights": [
     21.1875
    ]
   },
   "source": "from nltk.stem import WordNetLemmatizer\nlemmatizer = WordNetLemmatizer()\n\nlemma1 = lemmatizer.lemmatize('vegetables', 'n')\nlemma2 = lemmatizer.lemmatize('vegetable', 'v')\n\nlemma1",
   "execution_count": null,
   "outputs": [
    {
     "output_type": "execute_result",
     "execution_count": 14,
     "data": {
      "text/plain": "'vegetable'"
     },
     "metadata": {}
    }
   ]
  },
  {
   "cell_type": "markdown",
   "source": "## Lemmatization of Sentences",
   "metadata": {
    "tags": [],
    "is_collapsed": false,
    "cell_id": "00007-2ee0b97d-3a2c-43e3-b10d-3e36061d570f",
    "deepnote_cell_type": "text-cell-h2"
   }
  },
  {
   "cell_type": "code",
   "metadata": {
    "tags": [],
    "cell_id": "00006-6193f6c9-44ef-4b08-bde2-cfc4e6ac56c4",
    "deepnote_to_be_reexecuted": false,
    "source_hash": "47410b25",
    "execution_start": 1639506998639,
    "execution_millis": 446,
    "deepnote_cell_type": "code",
    "deepnote_cell_height": 202.5625,
    "deepnote_output_heights": [
     null,
     21.1875
    ]
   },
   "source": "import nltk\nnltk.download('wordnet')",
   "execution_count": null,
   "outputs": [
    {
     "name": "stderr",
     "text": "[nltk_data] Downloading package wordnet to /root/nltk_data...\n[nltk_data]   Unzipping corpora/wordnet.zip.\n",
     "output_type": "stream",
     "data": {}
    },
    {
     "output_type": "execute_result",
     "execution_count": 4,
     "data": {
      "text/plain": "True"
     },
     "metadata": {}
    }
   ]
  },
  {
   "cell_type": "code",
   "metadata": {
    "tags": [],
    "cell_id": "00006-8f710b95-24a2-4526-94fd-297396e0690b",
    "deepnote_to_be_reexecuted": false,
    "source_hash": "eb0cc158",
    "execution_start": 1639594618045,
    "execution_millis": 5,
    "deepnote_cell_type": "code",
    "deepnote_cell_height": 117
   },
   "source": "from nltk.stem import WordNetLemmatizer\nlemmatizer = WordNetLemmatizer()\nsentence = 'Vegetables are types of plants.'",
   "execution_count": null,
   "outputs": []
  },
  {
   "cell_type": "markdown",
   "source": "Tokenizing sentences",
   "metadata": {
    "tags": [],
    "cell_id": "00008-f5159458-b87c-43af-884e-9572a71c75ed",
    "deepnote_to_be_reexecuted": false,
    "source_hash": "4218703f",
    "execution_start": 1639507039284,
    "execution_millis": 7,
    "deepnote_cell_type": "markdown",
    "deepnote_cell_height": 52.390625
   }
  },
  {
   "cell_type": "code",
   "metadata": {
    "tags": [],
    "cell_id": "00009-1b70ef01-cffa-453d-8ce5-0ce76554cf8d",
    "deepnote_to_be_reexecuted": false,
    "source_hash": "997399cc",
    "execution_start": 1639507231314,
    "execution_millis": 501,
    "deepnote_cell_type": "code",
    "deepnote_cell_height": 164.375
   },
   "source": "nltk.download('punkt')",
   "execution_count": null,
   "outputs": [
    {
     "name": "stderr",
     "text": "[nltk_data] Downloading package punkt to /root/nltk_data...\n[nltk_data]   Unzipping tokenizers/punkt.zip.\n",
     "output_type": "stream",
     "data": {}
    },
    {
     "output_type": "execute_result",
     "execution_count": 15,
     "data": {
      "text/plain": "True"
     },
     "metadata": {}
    }
   ]
  },
  {
   "cell_type": "code",
   "metadata": {
    "tags": [],
    "cell_id": "00009-d6a89b4f-0077-4c89-aa24-043f41b125e4",
    "deepnote_to_be_reexecuted": false,
    "source_hash": "5121c3e2",
    "execution_start": 1639507301475,
    "execution_millis": 5,
    "deepnote_cell_type": "code",
    "deepnote_cell_height": 116
   },
   "source": "sentence_tokens = nltk.word_tokenize(sentence.lower())\nsentence_tokens",
   "execution_count": null,
   "outputs": [
    {
     "output_type": "execute_result",
     "execution_count": 17,
     "data": {
      "text/plain": "['vegetables', 'are', 'types', 'of', 'plants', '.']"
     },
     "metadata": {}
    }
   ]
  },
  {
   "cell_type": "code",
   "metadata": {
    "tags": [],
    "cell_id": "00011-9a97f349-0b72-489d-96b5-5c206b7fa64a",
    "deepnote_to_be_reexecuted": false,
    "source_hash": "58c6d00e",
    "execution_start": 1639508747999,
    "execution_millis": 55,
    "deepnote_cell_type": "code",
    "deepnote_cell_height": 98
   },
   "source": "pos_tags",
   "execution_count": null,
   "outputs": [
    {
     "output_type": "execute_result",
     "execution_count": 29,
     "data": {
      "text/plain": "[('vegetables', 'NNS'),\n ('are', 'VBP'),\n ('types', 'NNS'),\n ('of', 'IN'),\n ('plants', 'NNS'),\n ('.', '.')]"
     },
     "metadata": {}
    }
   ]
  },
  {
   "cell_type": "code",
   "metadata": {
    "tags": [],
    "cell_id": "00011-646dcce9-1281-4914-ae15-4e39793fe485",
    "deepnote_to_be_reexecuted": false,
    "source_hash": "6547bb8c",
    "execution_start": 1639640616815,
    "execution_millis": 15,
    "deepnote_cell_type": "code",
    "deepnote_cell_height": 351
   },
   "source": "import nltk \nfrom nltk.stem import WordNetLemmatizer\n\nlemmatizer = WordNetLemmatizer()\n\ndef lemma_me(sent):\n    sentence_tokens = nltk.word_tokenize(sent.lower())\n    pos_tags = nltk.pos_tag(sentence_tokens)\n\n    sentence_lemmas = []\n    for token, pos_tag in zip(sentence_tokens, pos_tags):\n        if pos_tag[1][0].lower() in ['n', 'v', 'a', 'r']:\n            lemma = lemmatizer.lemmatize(token, pos_tag[1][0].lower())\n            sentence_lemmas.append(lemma)\n\n    return sentence_lemmas",
   "execution_count": null,
   "outputs": []
  },
  {
   "cell_type": "code",
   "metadata": {
    "tags": [],
    "cell_id": "00013-e0bb0ad0-16c7-4d4d-89d4-4ab753673236",
    "deepnote_to_be_reexecuted": false,
    "source_hash": "917c207e",
    "execution_start": 1639594639346,
    "execution_millis": 2825,
    "deepnote_cell_type": "code",
    "deepnote_cell_height": 116
   },
   "source": "l1 = lemma_me('Vegetables are types of plants.')\nl1",
   "execution_count": null,
   "outputs": [
    {
     "output_type": "execute_result",
     "execution_count": 21,
     "data": {
      "text/plain": "['vegetable', 'be', 'type', 'plant']"
     },
     "metadata": {}
    }
   ]
  },
  {
   "cell_type": "code",
   "metadata": {
    "tags": [],
    "cell_id": "00014-22d20288-b50a-4bbc-9f7e-6adadae907bc",
    "deepnote_to_be_reexecuted": false,
    "source_hash": "18788813",
    "execution_start": 1639594644941,
    "execution_millis": 8,
    "deepnote_cell_type": "code",
    "deepnote_cell_height": 116
   },
   "source": "l2 = lemma_me('A vegetable is a type of plant')\nl2 ",
   "execution_count": null,
   "outputs": [
    {
     "output_type": "execute_result",
     "execution_count": 22,
     "data": {
      "text/plain": "['vegetable', 'be', 'type', 'plant']"
     },
     "metadata": {}
    }
   ]
  },
  {
   "cell_type": "code",
   "metadata": {
    "tags": [],
    "cell_id": "00015-0ed6b248-ed21-4391-b774-fba1c884e7be",
    "deepnote_to_be_reexecuted": false,
    "source_hash": "30a493df",
    "execution_start": 1639509645695,
    "execution_millis": 24,
    "deepnote_cell_type": "code",
    "deepnote_cell_height": 118.1875
   },
   "source": "l1 == l2",
   "execution_count": null,
   "outputs": [
    {
     "output_type": "execute_result",
     "execution_count": 45,
     "data": {
      "text/plain": "True"
     },
     "metadata": {}
    }
   ]
  },
  {
   "cell_type": "markdown",
   "source": "## Find the most similar sentence",
   "metadata": {
    "tags": [],
    "is_collapsed": false,
    "cell_id": "00016-254cbc01-ed6e-4f31-8061-262cfdbeaee4",
    "deepnote_cell_type": "text-cell-h2"
   }
  },
  {
   "cell_type": "code",
   "metadata": {
    "tags": [],
    "cell_id": "00017-523d6ae9-69b4-42f2-aaf0-95599b15bd79",
    "deepnote_to_be_reexecuted": false,
    "source_hash": "103b4800",
    "execution_start": 1639641532169,
    "execution_millis": 2,
    "deepnote_cell_type": "code",
    "deepnote_cell_height": 99
   },
   "source": "text = 'Originally, vegetables were collected from the wild by hunter-gatherers. Vegetables are all plants. Vegetables can be eaten either raw or cooked.'\nquestion = 'What are vegetables?' ",
   "execution_count": null,
   "outputs": []
  },
  {
   "cell_type": "code",
   "metadata": {
    "tags": [],
    "cell_id": "00018-cf6029ba-b62d-49c5-93ed-758f00fe3b5f",
    "deepnote_to_be_reexecuted": false,
    "source_hash": "229e9b3d",
    "execution_start": 1639641533236,
    "execution_millis": 1,
    "deepnote_cell_type": "code",
    "deepnote_cell_height": 297
   },
   "source": "import nltk \n\ndef lemma_me(sent):\n    sentence_tokens = nltk.word_tokenize(sent.lower())\n    pos_tags = nltk.pos_tag(sentence_tokens)\n\n    sentence_lemmas = []\n    for token, pos_tag in zip(sentence_tokens, pos_tags):\n        if pos_tag[1][0].lower() in ['n', 'v', 'a', 'r']:\n            lemma = lemmatizer.lemmatize(token, pos_tag[1][0].lower())\n            sentence_lemmas.append(lemma)\n\n    return sentence_lemmas",
   "execution_count": null,
   "outputs": []
  },
  {
   "cell_type": "code",
   "metadata": {
    "tags": [],
    "cell_id": "00019-bf357e30-9b6f-4536-b9e3-85cc27a7d5af",
    "deepnote_to_be_reexecuted": false,
    "source_hash": "7243dccb",
    "execution_start": 1639642225242,
    "execution_millis": 10,
    "deepnote_cell_type": "code",
    "deepnote_cell_height": 211.75
   },
   "source": "sentence_tokens = nltk.sent_tokenize(text)\nsentence_tokens.append(question)\nsentence_tokens",
   "execution_count": null,
   "outputs": [
    {
     "output_type": "execute_result",
     "execution_count": 49,
     "data": {
      "text/plain": "['Originally, vegetables were collected from the wild by hunter-gatherers.',\n 'Vegetables are all plants.',\n 'Vegetables can be eaten either raw or cooked.',\n 'What are vegetables?']"
     },
     "metadata": {}
    }
   ]
  },
  {
   "cell_type": "code",
   "metadata": {
    "tags": [],
    "cell_id": "00019-092395f1-c1a6-4b14-bbb0-a51c4a21ef8e",
    "deepnote_to_be_reexecuted": false,
    "source_hash": "9ff8297e",
    "execution_start": 1639642232621,
    "execution_millis": 0,
    "deepnote_cell_type": "code",
    "deepnote_cell_height": 81
   },
   "source": "from sklearn.feature_extraction.text import TfidfVectorizer",
   "execution_count": null,
   "outputs": []
  },
  {
   "cell_type": "code",
   "metadata": {
    "tags": [],
    "cell_id": "00021-c1366aa8-9cc6-4d5e-abb0-d0f83c1b295f",
    "deepnote_cell_type": "code",
    "deepnote_cell_height": 66
   },
   "source": "",
   "execution_count": null,
   "outputs": []
  },
  {
   "cell_type": "code",
   "metadata": {
    "tags": [],
    "cell_id": "00020-9b930278-444e-424b-bd3a-6540e9b3cefa",
    "deepnote_to_be_reexecuted": false,
    "source_hash": "e8797b87",
    "execution_start": 1639642234685,
    "execution_millis": 7,
    "deepnote_cell_type": "code",
    "deepnote_cell_height": 116
   },
   "source": "tv = TfidfVectorizer(tokenizer=lemma_me)\ntv",
   "execution_count": null,
   "outputs": [
    {
     "output_type": "execute_result",
     "execution_count": 51,
     "data": {
      "text/plain": "TfidfVectorizer(tokenizer=<function lemma_me at 0x7f31a2caf9e0>)"
     },
     "metadata": {}
    }
   ]
  },
  {
   "cell_type": "code",
   "metadata": {
    "tags": [],
    "cell_id": "00022-81a9c605-0dc6-45fa-b1a8-9ec22db122f3",
    "deepnote_to_be_reexecuted": false,
    "source_hash": "60e62a54",
    "execution_start": 1639642235754,
    "execution_millis": 15,
    "deepnote_cell_type": "code",
    "deepnote_cell_height": 263.125
   },
   "source": "nltk.download('averaged_perceptron_tagger')\nnltk.download('wordnet')",
   "execution_count": null,
   "outputs": [
    {
     "name": "stderr",
     "text": "[nltk_data] Downloading package averaged_perceptron_tagger to\n[nltk_data]     /root/nltk_data...\n[nltk_data]   Package averaged_perceptron_tagger is already up-to-\n[nltk_data]       date!\n[nltk_data] Downloading package wordnet to /root/nltk_data...\n[nltk_data]   Package wordnet is already up-to-date!\n",
     "output_type": "stream",
     "data": {}
    },
    {
     "output_type": "execute_result",
     "execution_count": 52,
     "data": {
      "text/plain": "True"
     },
     "metadata": {}
    }
   ]
  },
  {
   "cell_type": "code",
   "metadata": {
    "tags": [],
    "cell_id": "00021-18b494c8-444d-4892-95b3-4cef906f7b2c",
    "deepnote_to_be_reexecuted": false,
    "source_hash": "e6e7e57",
    "execution_start": 1639642238891,
    "execution_millis": 5,
    "deepnote_cell_type": "code"
   },
   "source": "tf = tv.fit_transform(sentence_tokens)",
   "execution_count": null,
   "outputs": []
  },
  {
   "cell_type": "code",
   "metadata": {
    "tags": [],
    "cell_id": "00024-16f830a2-be36-4529-be3c-99804728d6d8",
    "deepnote_to_be_reexecuted": false,
    "source_hash": "bd123c72",
    "execution_start": 1639642241021,
    "execution_millis": 4,
    "deepnote_cell_type": "code"
   },
   "source": "tf",
   "execution_count": null,
   "outputs": [
    {
     "output_type": "execute_result",
     "execution_count": 54,
     "data": {
      "text/plain": "<4x8 sparse matrix of type '<class 'numpy.float64'>'\n\twith 14 stored elements in Compressed Sparse Row format>"
     },
     "metadata": {}
    }
   ]
  },
  {
   "cell_type": "code",
   "metadata": {
    "tags": [],
    "cell_id": "00025-a337764e-3210-4625-bc1c-5c0477bb5f62",
    "deepnote_to_be_reexecuted": false,
    "source_hash": "c51fea50",
    "execution_start": 1639642242232,
    "execution_millis": 7,
    "deepnote_cell_type": "code"
   },
   "source": "tf.toarray()",
   "execution_count": null,
   "outputs": [
    {
     "output_type": "execute_result",
     "execution_count": 55,
     "data": {
      "text/plain": "array([[0.27717414, 0.53114624, 0.        , 0.        , 0.53114624,\n        0.53114624, 0.        , 0.27717414],\n       [0.41988018, 0.        , 0.        , 0.        , 0.        ,\n        0.        , 0.8046125 , 0.41988018],\n       [0.32713399, 0.        , 0.62688384, 0.62688384, 0.        ,\n        0.        , 0.        , 0.32713399],\n       [0.70710678, 0.        , 0.        , 0.        , 0.        ,\n        0.        , 0.        , 0.70710678]])"
     },
     "metadata": {}
    }
   ]
  },
  {
   "cell_type": "code",
   "metadata": {
    "tags": [],
    "cell_id": "00027-c34f45b6-ae90-42d3-b6b6-12a6dde29361",
    "deepnote_to_be_reexecuted": false,
    "source_hash": "733bbfb1",
    "execution_start": 1639642252507,
    "execution_millis": 127,
    "deepnote_cell_type": "code"
   },
   "source": "import pandas\ndf = pandas.DataFrame(tf.toarray(), columns=tv.get_feature_names())\ndf",
   "execution_count": null,
   "outputs": [
    {
     "name": "stderr",
     "text": "/shared-libs/python3.7/py/lib/python3.7/site-packages/sklearn/utils/deprecation.py:87: FutureWarning: Function get_feature_names is deprecated; get_feature_names is deprecated in 1.0 and will be removed in 1.2. Please use get_feature_names_out instead.\n  warnings.warn(msg, category=FutureWarning)\n",
     "output_type": "stream",
     "data": {}
    },
    {
     "output_type": "execute_result",
     "execution_count": 56,
     "data": {
      "application/vnd.deepnote.dataframe.v3+json": {
       "column_count": 8,
       "row_count": 4,
       "columns": [
        {
         "name": "be",
         "dtype": "float64",
         "stats": {
          "unique_count": 4,
          "nan_count": 0,
          "min": "0.2771741429745394",
          "max": "0.7071067811865475",
          "histogram": [
           {
            "bin_start": 0.2771741429745394,
            "bin_end": 0.3201674067957402,
            "count": 1
           },
           {
            "bin_start": 0.3201674067957402,
            "bin_end": 0.363160670616941,
            "count": 1
           },
           {
            "bin_start": 0.363160670616941,
            "bin_end": 0.40615393443814185,
            "count": 0
           },
           {
            "bin_start": 0.40615393443814185,
            "bin_end": 0.44914719825934263,
            "count": 1
           },
           {
            "bin_start": 0.44914719825934263,
            "bin_end": 0.4921404620805434,
            "count": 0
           },
           {
            "bin_start": 0.4921404620805434,
            "bin_end": 0.5351337259017442,
            "count": 0
           },
           {
            "bin_start": 0.5351337259017442,
            "bin_end": 0.5781269897229451,
            "count": 0
           },
           {
            "bin_start": 0.5781269897229451,
            "bin_end": 0.6211202535441458,
            "count": 0
           },
           {
            "bin_start": 0.6211202535441458,
            "bin_end": 0.6641135173653467,
            "count": 0
           },
           {
            "bin_start": 0.6641135173653467,
            "bin_end": 0.7071067811865475,
            "count": 1
           }
          ]
         }
        },
        {
         "name": "collect",
         "dtype": "float64",
         "stats": {
          "unique_count": 2,
          "nan_count": 0,
          "min": "0.0",
          "max": "0.5311462412972718",
          "histogram": [
           {
            "bin_start": 0,
            "bin_end": 0.053114624129727186,
            "count": 3
           },
           {
            "bin_start": 0.053114624129727186,
            "bin_end": 0.10622924825945437,
            "count": 0
           },
           {
            "bin_start": 0.10622924825945437,
            "bin_end": 0.15934387238918157,
            "count": 0
           },
           {
            "bin_start": 0.15934387238918157,
            "bin_end": 0.21245849651890875,
            "count": 0
           },
           {
            "bin_start": 0.21245849651890875,
            "bin_end": 0.2655731206486359,
            "count": 0
           },
           {
            "bin_start": 0.2655731206486359,
            "bin_end": 0.31868774477836315,
            "count": 0
           },
           {
            "bin_start": 0.31868774477836315,
            "bin_end": 0.3718023689080903,
            "count": 0
           },
           {
            "bin_start": 0.3718023689080903,
            "bin_end": 0.4249169930378175,
            "count": 0
           },
           {
            "bin_start": 0.4249169930378175,
            "bin_end": 0.47803161716754466,
            "count": 0
           },
           {
            "bin_start": 0.47803161716754466,
            "bin_end": 0.5311462412972718,
            "count": 1
           }
          ]
         }
        },
        {
         "name": "cook",
         "dtype": "float64",
         "stats": {
          "unique_count": 2,
          "nan_count": 0,
          "min": "0.0",
          "max": "0.6268838408675178",
          "histogram": [
           {
            "bin_start": 0,
            "bin_end": 0.06268838408675179,
            "count": 3
           },
           {
            "bin_start": 0.06268838408675179,
            "bin_end": 0.12537676817350357,
            "count": 0
           },
           {
            "bin_start": 0.12537676817350357,
            "bin_end": 0.18806515226025536,
            "count": 0
           },
           {
            "bin_start": 0.18806515226025536,
            "bin_end": 0.25075353634700714,
            "count": 0
           },
           {
            "bin_start": 0.25075353634700714,
            "bin_end": 0.31344192043375896,
            "count": 0
           },
           {
            "bin_start": 0.31344192043375896,
            "bin_end": 0.3761303045205107,
            "count": 0
           },
           {
            "bin_start": 0.3761303045205107,
            "bin_end": 0.4388186886072625,
            "count": 0
           },
           {
            "bin_start": 0.4388186886072625,
            "bin_end": 0.5015070726940143,
            "count": 0
           },
           {
            "bin_start": 0.5015070726940143,
            "bin_end": 0.5641954567807661,
            "count": 0
           },
           {
            "bin_start": 0.5641954567807661,
            "bin_end": 0.6268838408675178,
            "count": 1
           }
          ]
         }
        },
        {
         "name": "eat",
         "dtype": "float64",
         "stats": {
          "unique_count": 2,
          "nan_count": 0,
          "min": "0.0",
          "max": "0.6268838408675178",
          "histogram": [
           {
            "bin_start": 0,
            "bin_end": 0.06268838408675179,
            "count": 3
           },
           {
            "bin_start": 0.06268838408675179,
            "bin_end": 0.12537676817350357,
            "count": 0
           },
           {
            "bin_start": 0.12537676817350357,
            "bin_end": 0.18806515226025536,
            "count": 0
           },
           {
            "bin_start": 0.18806515226025536,
            "bin_end": 0.25075353634700714,
            "count": 0
           },
           {
            "bin_start": 0.25075353634700714,
            "bin_end": 0.31344192043375896,
            "count": 0
           },
           {
            "bin_start": 0.31344192043375896,
            "bin_end": 0.3761303045205107,
            "count": 0
           },
           {
            "bin_start": 0.3761303045205107,
            "bin_end": 0.4388186886072625,
            "count": 0
           },
           {
            "bin_start": 0.4388186886072625,
            "bin_end": 0.5015070726940143,
            "count": 0
           },
           {
            "bin_start": 0.5015070726940143,
            "bin_end": 0.5641954567807661,
            "count": 0
           },
           {
            "bin_start": 0.5641954567807661,
            "bin_end": 0.6268838408675178,
            "count": 1
           }
          ]
         }
        },
        {
         "name": "hunter-gatherer",
         "dtype": "float64",
         "stats": {
          "unique_count": 2,
          "nan_count": 0,
          "min": "0.0",
          "max": "0.5311462412972718",
          "histogram": [
           {
            "bin_start": 0,
            "bin_end": 0.053114624129727186,
            "count": 3
           },
           {
            "bin_start": 0.053114624129727186,
            "bin_end": 0.10622924825945437,
            "count": 0
           },
           {
            "bin_start": 0.10622924825945437,
            "bin_end": 0.15934387238918157,
            "count": 0
           },
           {
            "bin_start": 0.15934387238918157,
            "bin_end": 0.21245849651890875,
            "count": 0
           },
           {
            "bin_start": 0.21245849651890875,
            "bin_end": 0.2655731206486359,
            "count": 0
           },
           {
            "bin_start": 0.2655731206486359,
            "bin_end": 0.31868774477836315,
            "count": 0
           },
           {
            "bin_start": 0.31868774477836315,
            "bin_end": 0.3718023689080903,
            "count": 0
           },
           {
            "bin_start": 0.3718023689080903,
            "bin_end": 0.4249169930378175,
            "count": 0
           },
           {
            "bin_start": 0.4249169930378175,
            "bin_end": 0.47803161716754466,
            "count": 0
           },
           {
            "bin_start": 0.47803161716754466,
            "bin_end": 0.5311462412972718,
            "count": 1
           }
          ]
         }
        },
        {
         "name": "originally",
         "dtype": "float64",
         "stats": {
          "unique_count": 2,
          "nan_count": 0,
          "min": "0.0",
          "max": "0.5311462412972718",
          "histogram": [
           {
            "bin_start": 0,
            "bin_end": 0.053114624129727186,
            "count": 3
           },
           {
            "bin_start": 0.053114624129727186,
            "bin_end": 0.10622924825945437,
            "count": 0
           },
           {
            "bin_start": 0.10622924825945437,
            "bin_end": 0.15934387238918157,
            "count": 0
           },
           {
            "bin_start": 0.15934387238918157,
            "bin_end": 0.21245849651890875,
            "count": 0
           },
           {
            "bin_start": 0.21245849651890875,
            "bin_end": 0.2655731206486359,
            "count": 0
           },
           {
            "bin_start": 0.2655731206486359,
            "bin_end": 0.31868774477836315,
            "count": 0
           },
           {
            "bin_start": 0.31868774477836315,
            "bin_end": 0.3718023689080903,
            "count": 0
           },
           {
            "bin_start": 0.3718023689080903,
            "bin_end": 0.4249169930378175,
            "count": 0
           },
           {
            "bin_start": 0.4249169930378175,
            "bin_end": 0.47803161716754466,
            "count": 0
           },
           {
            "bin_start": 0.47803161716754466,
            "bin_end": 0.5311462412972718,
            "count": 1
           }
          ]
         }
        },
        {
         "name": "plant",
         "dtype": "float64",
         "stats": {
          "unique_count": 2,
          "nan_count": 0,
          "min": "0.0",
          "max": "0.8046124965719778",
          "histogram": [
           {
            "bin_start": 0,
            "bin_end": 0.08046124965719778,
            "count": 3
           },
           {
            "bin_start": 0.08046124965719778,
            "bin_end": 0.16092249931439556,
            "count": 0
           },
           {
            "bin_start": 0.16092249931439556,
            "bin_end": 0.24138374897159334,
            "count": 0
           },
           {
            "bin_start": 0.24138374897159334,
            "bin_end": 0.3218449986287911,
            "count": 0
           },
           {
            "bin_start": 0.3218449986287911,
            "bin_end": 0.40230624828598893,
            "count": 0
           },
           {
            "bin_start": 0.40230624828598893,
            "bin_end": 0.4827674979431867,
            "count": 0
           },
           {
            "bin_start": 0.4827674979431867,
            "bin_end": 0.5632287476003844,
            "count": 0
           },
           {
            "bin_start": 0.5632287476003844,
            "bin_end": 0.6436899972575822,
            "count": 0
           },
           {
            "bin_start": 0.6436899972575822,
            "bin_end": 0.7241512469147801,
            "count": 0
           },
           {
            "bin_start": 0.7241512469147801,
            "bin_end": 0.8046124965719778,
            "count": 1
           }
          ]
         }
        },
        {
         "name": "vegetable",
         "dtype": "float64",
         "stats": {
          "unique_count": 4,
          "nan_count": 0,
          "min": "0.2771741429745394",
          "max": "0.7071067811865475",
          "histogram": [
           {
            "bin_start": 0.2771741429745394,
            "bin_end": 0.3201674067957402,
            "count": 1
           },
           {
            "bin_start": 0.3201674067957402,
            "bin_end": 0.363160670616941,
            "count": 1
           },
           {
            "bin_start": 0.363160670616941,
            "bin_end": 0.40615393443814185,
            "count": 0
           },
           {
            "bin_start": 0.40615393443814185,
            "bin_end": 0.44914719825934263,
            "count": 1
           },
           {
            "bin_start": 0.44914719825934263,
            "bin_end": 0.4921404620805434,
            "count": 0
           },
           {
            "bin_start": 0.4921404620805434,
            "bin_end": 0.5351337259017442,
            "count": 0
           },
           {
            "bin_start": 0.5351337259017442,
            "bin_end": 0.5781269897229451,
            "count": 0
           },
           {
            "bin_start": 0.5781269897229451,
            "bin_end": 0.6211202535441458,
            "count": 0
           },
           {
            "bin_start": 0.6211202535441458,
            "bin_end": 0.6641135173653467,
            "count": 0
           },
           {
            "bin_start": 0.6641135173653467,
            "bin_end": 0.7071067811865475,
            "count": 1
           }
          ]
         }
        },
        {
         "name": "_deepnote_index_column",
         "dtype": "int64"
        }
       ],
       "rows": [
        {
         "be": 0.2771741429745394,
         "collect": 0.5311462412972718,
         "cook": 0,
         "eat": 0,
         "hunter-gatherer": 0.5311462412972718,
         "originally": 0.5311462412972718,
         "plant": 0,
         "vegetable": 0.2771741429745394,
         "_deepnote_index_column": 0
        },
        {
         "be": 0.41988017955138635,
         "collect": 0,
         "cook": 0,
         "eat": 0,
         "hunter-gatherer": 0,
         "originally": 0,
         "plant": 0.8046124965719778,
         "vegetable": 0.41988017955138635,
         "_deepnote_index_column": 1
        },
        {
         "be": 0.32713399404401333,
         "collect": 0,
         "cook": 0.6268838408675178,
         "eat": 0.6268838408675178,
         "hunter-gatherer": 0,
         "originally": 0,
         "plant": 0,
         "vegetable": 0.32713399404401333,
         "_deepnote_index_column": 2
        },
        {
         "be": 0.7071067811865475,
         "collect": 0,
         "cook": 0,
         "eat": 0,
         "hunter-gatherer": 0,
         "originally": 0,
         "plant": 0,
         "vegetable": 0.7071067811865475,
         "_deepnote_index_column": 3
        }
       ]
      },
      "text/plain": "         be   collect      cook       eat  hunter-gatherer  originally  \\\n0  0.277174  0.531146  0.000000  0.000000         0.531146    0.531146   \n1  0.419880  0.000000  0.000000  0.000000         0.000000    0.000000   \n2  0.327134  0.000000  0.626884  0.626884         0.000000    0.000000   \n3  0.707107  0.000000  0.000000  0.000000         0.000000    0.000000   \n\n      plant  vegetable  \n0  0.000000   0.277174  \n1  0.804612   0.419880  \n2  0.000000   0.327134  \n3  0.000000   0.707107  ",
      "text/html": "<div>\n<style scoped>\n    .dataframe tbody tr th:only-of-type {\n        vertical-align: middle;\n    }\n\n    .dataframe tbody tr th {\n        vertical-align: top;\n    }\n\n    .dataframe thead th {\n        text-align: right;\n    }\n</style>\n<table border=\"1\" class=\"dataframe\">\n  <thead>\n    <tr style=\"text-align: right;\">\n      <th></th>\n      <th>be</th>\n      <th>collect</th>\n      <th>cook</th>\n      <th>eat</th>\n      <th>hunter-gatherer</th>\n      <th>originally</th>\n      <th>plant</th>\n      <th>vegetable</th>\n    </tr>\n  </thead>\n  <tbody>\n    <tr>\n      <th>0</th>\n      <td>0.277174</td>\n      <td>0.531146</td>\n      <td>0.000000</td>\n      <td>0.000000</td>\n      <td>0.531146</td>\n      <td>0.531146</td>\n      <td>0.000000</td>\n      <td>0.277174</td>\n    </tr>\n    <tr>\n      <th>1</th>\n      <td>0.419880</td>\n      <td>0.000000</td>\n      <td>0.000000</td>\n      <td>0.000000</td>\n      <td>0.000000</td>\n      <td>0.000000</td>\n      <td>0.804612</td>\n      <td>0.419880</td>\n    </tr>\n    <tr>\n      <th>2</th>\n      <td>0.327134</td>\n      <td>0.000000</td>\n      <td>0.626884</td>\n      <td>0.626884</td>\n      <td>0.000000</td>\n      <td>0.000000</td>\n      <td>0.000000</td>\n      <td>0.327134</td>\n    </tr>\n    <tr>\n      <th>3</th>\n      <td>0.707107</td>\n      <td>0.000000</td>\n      <td>0.000000</td>\n      <td>0.000000</td>\n      <td>0.000000</td>\n      <td>0.000000</td>\n      <td>0.000000</td>\n      <td>0.707107</td>\n    </tr>\n  </tbody>\n</table>\n</div>"
     },
     "metadata": {}
    }
   ]
  },
  {
   "cell_type": "code",
   "metadata": {
    "tags": [],
    "cell_id": "00027-54ef80f5-0b38-4ac6-a4ae-ca746ea54374",
    "deepnote_to_be_reexecuted": false,
    "source_hash": "63f4900",
    "execution_start": 1639642351303,
    "execution_millis": 12,
    "deepnote_cell_type": "code"
   },
   "source": "from sklearn.metrics.pairwise import cosine_similarity\nvalues = cosine_similarity(tf[-1], tf)\nvalues",
   "execution_count": null,
   "outputs": [
    {
     "output_type": "execute_result",
     "execution_count": 57,
     "data": {
      "text/plain": "array([[0.39198343, 0.59380024, 0.46263733, 1.        ]])"
     },
     "metadata": {}
    }
   ]
  },
  {
   "cell_type": "code",
   "metadata": {
    "tags": [],
    "cell_id": "00028-1accbab2-4592-4dcd-a576-64dc23322efb",
    "deepnote_cell_type": "code"
   },
   "source": "text = 'Originally, vegetables were collected from the wild by hunter-gatherers. Vegetables are all plants. Vegetables can be eaten either raw or cooked.'\nquestion = 'What are vegetables?' ",
   "execution_count": null,
   "outputs": []
  },
  {
   "cell_type": "code",
   "metadata": {
    "tags": [],
    "cell_id": "00029-a370e152-7dc1-4775-a063-a4980069d60d",
    "deepnote_to_be_reexecuted": false,
    "source_hash": "27c5e9ba",
    "execution_start": 1639642568166,
    "execution_millis": 44,
    "deepnote_cell_type": "code"
   },
   "source": "index = values.argsort()[0][-2]\nindex",
   "execution_count": null,
   "outputs": [
    {
     "output_type": "execute_result",
     "execution_count": 63,
     "data": {
      "text/plain": "1"
     },
     "metadata": {}
    }
   ]
  },
  {
   "cell_type": "code",
   "metadata": {
    "tags": [],
    "cell_id": "00030-e7af12b9-e4e9-4e64-9d39-15f7d0845b7d",
    "deepnote_to_be_reexecuted": false,
    "source_hash": "31d6919",
    "execution_start": 1639642606083,
    "execution_millis": 7,
    "deepnote_cell_type": "code"
   },
   "source": "values_flat = values.flatten()\nvalues_flat",
   "execution_count": null,
   "outputs": [
    {
     "output_type": "execute_result",
     "execution_count": 64,
     "data": {
      "text/plain": "array([0.39198343, 0.59380024, 0.46263733, 1.        ])"
     },
     "metadata": {}
    }
   ]
  },
  {
   "cell_type": "code",
   "metadata": {
    "tags": [],
    "cell_id": "00031-023f6b91-aa9a-4b9b-bbc1-d92dc1b3a4a4",
    "deepnote_to_be_reexecuted": false,
    "source_hash": "2801129",
    "execution_start": 1639642652005,
    "execution_millis": 45,
    "deepnote_cell_type": "code"
   },
   "source": "values_flat.sort()\nvalues_flat",
   "execution_count": null,
   "outputs": [
    {
     "output_type": "execute_result",
     "execution_count": 65,
     "data": {
      "text/plain": "array([0.39198343, 0.46263733, 0.59380024, 1.        ])"
     },
     "metadata": {}
    }
   ]
  },
  {
   "cell_type": "code",
   "metadata": {
    "tags": [],
    "cell_id": "00032-9d5c7dc4-c08a-4581-ae05-b34757e82551",
    "deepnote_to_be_reexecuted": false,
    "source_hash": "9ec0672",
    "execution_start": 1639642887913,
    "execution_millis": 11,
    "deepnote_cell_type": "code"
   },
   "source": "coeff = values_flat[-2]\ncoeff",
   "execution_count": null,
   "outputs": [
    {
     "output_type": "execute_result",
     "execution_count": 71,
     "data": {
      "text/plain": "0.593800244493221"
     },
     "metadata": {}
    }
   ]
  },
  {
   "cell_type": "code",
   "metadata": {
    "tags": [],
    "cell_id": "00033-3e970d5a-7378-47d0-b75e-30a9b2e27f83",
    "deepnote_to_be_reexecuted": false,
    "source_hash": "82a184f8",
    "execution_start": 1639642938439,
    "execution_millis": 2,
    "deepnote_cell_type": "code"
   },
   "source": "if coeff > 0.3:\n    print(sentence_tokens[index])",
   "execution_count": null,
   "outputs": [
    {
     "name": "stdout",
     "text": "Vegetables are all plants.\n",
     "output_type": "stream",
     "data": {}
    }
   ]
  },
  {
   "cell_type": "markdown",
   "source": "<a style='text-decoration:none;line-height:16px;display:flex;color:#5B5B62;padding:10px;justify-content:end;' href='https://deepnote.com?utm_source=created-in-deepnote-cell&projectId=440311b0-c5f8-41a0-9978-e85a9f4d767d' target=\"_blank\">\n<img alt='Created in deepnote.com' style='display:inline;max-height:16px;margin:0px;margin-right:7.5px;' src='data:image/svg+xml;base64,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' > </img>\nCreated in <span style='font-weight:600;margin-left:4px;'>Deepnote</span></a>",
   "metadata": {
    "tags": [],
    "created_in_deepnote_cell": true,
    "deepnote_cell_type": "markdown"
   }
  }
 ],
 "nbformat": 4,
 "nbformat_minor": 2,
 "metadata": {
  "orig_nbformat": 2,
  "deepnote": {
   "is_reactive": false
  },
  "deepnote_notebook_id": "6d403595-54d2-4e4f-8502-c591c92ae8d6",
  "deepnote_execution_queue": []
 }
}